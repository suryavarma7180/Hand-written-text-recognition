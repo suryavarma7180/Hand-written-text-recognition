{
 "cells": [
  {
   "cell_type": "markdown",
   "metadata": {},
   "source": [
    "# HandWritten Word Segmentation"
   ]
  },
  {
   "cell_type": "markdown",
   "metadata": {},
   "source": [
    "# Importing Packages"
   ]
  },
  {
   "cell_type": "code",
   "execution_count": 2,
   "metadata": {},
   "outputs": [],
   "source": [
    "import seaborn as sns\n",
    "import numpy as np\n",
    "import matplotlib.pyplot as pt\n",
    "import pandas as pd\n",
    "from sklearn.model_selection import train_test_split"
   ]
  },
  {
   "cell_type": "markdown",
   "metadata": {},
   "source": [
    "# Data Exploration"
   ]
  },
  {
   "cell_type": "code",
   "execution_count": 3,
   "metadata": {},
   "outputs": [],
   "source": [
    "data =pd.read_csv(\"hand.csv\").values"
   ]
  },
  {
   "cell_type": "markdown",
   "metadata": {},
   "source": [
    "# Data Splitting Training & Testing"
   ]
  },
  {
   "cell_type": "code",
   "execution_count": 4,
   "metadata": {},
   "outputs": [],
   "source": [
    "#trianing dataset\n",
    "xtrain =data[0:40000,1:]\n",
    "train_lebel=data[0:40000,0]"
   ]
  },
  {
   "cell_type": "code",
   "execution_count": 5,
   "metadata": {},
   "outputs": [],
   "source": [
    "#test dataset\n",
    "xtest=data[30000:,1:]\n",
    "actual_lebel=data[30000:,0]"
   ]
  },
  {
   "cell_type": "markdown",
   "metadata": {},
   "source": [
    "# ML & DL "
   ]
  },
  {
   "cell_type": "code",
   "execution_count": 6,
   "metadata": {},
   "outputs": [],
   "source": [
    "from sklearn.model_selection import cross_val_score\n",
    "from sklearn.metrics import classification_report\n",
    "from sklearn.metrics import confusion_matrix\n",
    "from sklearn.metrics import accuracy_score"
   ]
  },
  {
   "cell_type": "markdown",
   "metadata": {},
   "source": [
    "# Random Forest Classifier"
   ]
  },
  {
   "cell_type": "code",
   "execution_count": 7,
   "metadata": {},
   "outputs": [
    {
     "name": "stdout",
     "output_type": "stream",
     "text": [
      "*Confusion Matrix for RF: \n",
      "[[1192    0    0    0    0    0    1    0    2    0]\n",
      " [   0 1349    0    0    0    1    1    0    1    0]\n",
      " [   3    0 1147    4    0    0    1    0    2    0]\n",
      " [   0    0    2 1250    0    0    0    2    2    2]\n",
      " [   0    1    0    0 1135    0    2    0    0    2]\n",
      " [   1    1    0    3    0 1065    1    0    4    1]\n",
      " [   1    0    0    0    1    0 1165    0    0    0]\n",
      " [   0    0    2    0    0    0    0 1263    0    3]\n",
      " [   0    1    1    0    1    2    3    1 1164    1]\n",
      " [   0    0    3    3    3    0    0    2    1 1201]]\n",
      "*Classification Report for RF: \n",
      "              precision    recall  f1-score   support\n",
      "\n",
      "           0       1.00      1.00      1.00      1195\n",
      "           1       1.00      1.00      1.00      1352\n",
      "           2       0.99      0.99      0.99      1157\n",
      "           3       0.99      0.99      0.99      1258\n",
      "           4       1.00      1.00      1.00      1140\n",
      "           5       1.00      0.99      0.99      1076\n",
      "           6       0.99      1.00      1.00      1167\n",
      "           7       1.00      1.00      1.00      1268\n",
      "           8       0.99      0.99      0.99      1174\n",
      "           9       0.99      0.99      0.99      1213\n",
      "\n",
      "    accuracy                           0.99     12000\n",
      "   macro avg       0.99      0.99      0.99     12000\n",
      "weighted avg       0.99      0.99      0.99     12000\n",
      "\n"
     ]
    }
   ],
   "source": [
    "from sklearn.ensemble import RandomForestClassifier\n",
    "RF = RandomForestClassifier()\n",
    "RF.fit(xtrain,train_lebel)\n",
    "predictions = RF.predict(xtest)\n",
    "print(\"*Confusion Matrix for RF: \")\n",
    "print(confusion_matrix(actual_lebel, predictions))\n",
    "print(\"*Classification Report for RF: \")\n",
    "print(classification_report(actual_lebel, predictions))"
   ]
  },
  {
   "cell_type": "code",
   "execution_count": 8,
   "metadata": {},
   "outputs": [
    {
     "name": "stdout",
     "output_type": "stream",
     "text": [
      "0.5197717081125153\n",
      "99.425\n",
      "0.4981195152528207\n",
      "0.46319140469558295\n"
     ]
    }
   ],
   "source": [
    "confusion = confusion_matrix(actual_lebel, predictions)\n",
    "TP = confusion[0, 0]\n",
    "TN = confusion[8, 8]\n",
    "FP = confusion[1, 1]\n",
    "FN = confusion[9, 9]\n",
    "classification_error = (FP + FN) / float(TP + TN + FP + FN)\n",
    "\n",
    "print(classification_error)\n",
    "val1 = accuracy_score(actual_lebel, predictions)*100\n",
    "print(val1)\n",
    "from sklearn import metrics\n",
    "RF_sensitivity = (TP / float(FN + TP))\n",
    "\n",
    "print(RF_sensitivity)\n",
    "RF_specificity = (TN / (TN + FP))\n",
    "\n",
    "print(RF_specificity)"
   ]
  },
  {
   "cell_type": "markdown",
   "metadata": {},
   "source": [
    "# Decision Tree Classifier"
   ]
  },
  {
   "cell_type": "code",
   "execution_count": 9,
   "metadata": {},
   "outputs": [
    {
     "name": "stdout",
     "output_type": "stream",
     "text": [
      "*Confusion Matrix for DT: \n",
      "[[1175    2    1    1    0    5    4    1    4    2]\n",
      " [   0 1343    0    1    2    0    3    0    2    1]\n",
      " [   1    3 1121    9    4    2    5    4    7    1]\n",
      " [   0    1    7 1221    3    7    0    4    8    7]\n",
      " [   1    3    2    1 1108    2    4    5    4   10]\n",
      " [   4    1    3   13    3 1037    4    1    6    4]\n",
      " [   1    0    2    0    6    6 1147    2    3    0]\n",
      " [   0    0    6    1    4    1    0 1249    2    5]\n",
      " [   1    4    6    7    8    3    7    3 1129    6]\n",
      " [   0    0    2    5   14    3    1   10    6 1172]]\n",
      "*Classification Report for DT: \n",
      "              precision    recall  f1-score   support\n",
      "\n",
      "           0       0.99      0.98      0.99      1195\n",
      "           1       0.99      0.99      0.99      1352\n",
      "           2       0.97      0.97      0.97      1157\n",
      "           3       0.97      0.97      0.97      1258\n",
      "           4       0.96      0.97      0.97      1140\n",
      "           5       0.97      0.96      0.97      1076\n",
      "           6       0.98      0.98      0.98      1167\n",
      "           7       0.98      0.99      0.98      1268\n",
      "           8       0.96      0.96      0.96      1174\n",
      "           9       0.97      0.97      0.97      1213\n",
      "\n",
      "    accuracy                           0.98     12000\n",
      "   macro avg       0.97      0.97      0.97     12000\n",
      "weighted avg       0.98      0.98      0.98     12000\n",
      "\n"
     ]
    }
   ],
   "source": [
    "from sklearn import tree\n",
    "DT = tree.DecisionTreeClassifier()\n",
    "DT.fit(xtrain,train_lebel)\n",
    "predictions = DT.predict(xtest)\n",
    "print(\"*Confusion Matrix for DT: \")\n",
    "print(confusion_matrix(actual_lebel, predictions))\n",
    "print(\"*Classification Report for DT: \")\n",
    "print(classification_report(actual_lebel, predictions))"
   ]
  },
  {
   "cell_type": "code",
   "execution_count": 10,
   "metadata": {},
   "outputs": [
    {
     "name": "stdout",
     "output_type": "stream",
     "text": [
      "0.5218925088192571\n",
      "97.51666666666667\n",
      "0.5006391137622497\n",
      "0.45671521035598706\n"
     ]
    }
   ],
   "source": [
    "confusion = confusion_matrix(actual_lebel, predictions)\n",
    "TP = confusion[0, 0]\n",
    "TN = confusion[8, 8]\n",
    "FP = confusion[1, 1]\n",
    "FN = confusion[9, 9]\n",
    "classification_error = (FP + FN) / float(TP + TN + FP + FN)\n",
    "\n",
    "print(classification_error)\n",
    "val2 = accuracy_score(actual_lebel, predictions)*100\n",
    "print(val2)\n",
    "from sklearn import metrics\n",
    "DT_sensitivity = (TP / float(FN + TP))\n",
    "\n",
    "print(DT_sensitivity)\n",
    "DT_specificity = (TN / (TN + FP))\n",
    "\n",
    "print(DT_specificity)"
   ]
  },
  {
   "cell_type": "markdown",
   "metadata": {},
   "source": [
    "# MLP Classifier - ANN"
   ]
  },
  {
   "cell_type": "code",
   "execution_count": 11,
   "metadata": {},
   "outputs": [
    {
     "name": "stdout",
     "output_type": "stream",
     "text": [
      "*Confusion Matrix for MLP: \n",
      "[[1175    0    0    0    1    4    5    1    9    0]\n",
      " [   0 1346    0    0    0    0    1    0    5    0]\n",
      " [   1    0 1137    1    0    0    5    4    9    0]\n",
      " [   1    1    3 1218    0   12    1    5   14    3]\n",
      " [   1    1    1    0 1126    0    3    0    2    6]\n",
      " [   2    0    0    7    0 1055    4    0    7    1]\n",
      " [   2    0    0    0    0    1 1163    0    1    0]\n",
      " [   0    1    3    0    2    0    0 1255    1    6]\n",
      " [   1    1    0    0    1    2    4    1 1161    3]\n",
      " [   2    0    2    4    5    1    0    5    9 1185]]\n",
      "*Classification Report for MLP: \n",
      "              precision    recall  f1-score   support\n",
      "\n",
      "           0       0.99      0.98      0.99      1195\n",
      "           1       1.00      1.00      1.00      1352\n",
      "           2       0.99      0.98      0.99      1157\n",
      "           3       0.99      0.97      0.98      1258\n",
      "           4       0.99      0.99      0.99      1140\n",
      "           5       0.98      0.98      0.98      1076\n",
      "           6       0.98      1.00      0.99      1167\n",
      "           7       0.99      0.99      0.99      1268\n",
      "           8       0.95      0.99      0.97      1174\n",
      "           9       0.98      0.98      0.98      1213\n",
      "\n",
      "    accuracy                           0.99     12000\n",
      "   macro avg       0.98      0.99      0.98     12000\n",
      "weighted avg       0.99      0.99      0.99     12000\n",
      "\n"
     ]
    }
   ],
   "source": [
    "from sklearn.neural_network import MLPClassifier\n",
    "MLP = MLPClassifier()\n",
    "MLP.fit(xtrain,train_lebel)\n",
    "predictions = MLP.predict(xtest)\n",
    "print(\"*Confusion Matrix for MLP: \")\n",
    "print(confusion_matrix(actual_lebel, predictions))\n",
    "print(\"*Classification Report for MLP: \")\n",
    "print(classification_report(actual_lebel, predictions))"
   ]
  },
  {
   "cell_type": "code",
   "execution_count": 12,
   "metadata": {},
   "outputs": [
    {
     "name": "stdout",
     "output_type": "stream",
     "text": [
      "0.5200328744606534\n",
      "98.50833333333333\n",
      "0.4978813559322034\n",
      "0.46310331072995614\n"
     ]
    }
   ],
   "source": [
    "confusion = confusion_matrix(actual_lebel, predictions)\n",
    "TP = confusion[0, 0]\n",
    "TN = confusion[8, 8]\n",
    "FP = confusion[1, 1]\n",
    "FN = confusion[9, 9]\n",
    "classification_error = (FP + FN) / float(TP + TN + FP + FN)\n",
    "\n",
    "print(classification_error)\n",
    "val3 = accuracy_score(actual_lebel, predictions)*100\n",
    "print(val3)\n",
    "from sklearn import metrics\n",
    "MLP_sensitivity = (TP / float(FN + TP))\n",
    "\n",
    "print(MLP_sensitivity)\n",
    "MLP_specificity = (TN / (TN + FP))\n",
    "\n",
    "print(MLP_specificity)"
   ]
  },
  {
   "cell_type": "markdown",
   "metadata": {},
   "source": [
    "# KNeighbors Classifier"
   ]
  },
  {
   "cell_type": "code",
   "execution_count": 13,
   "metadata": {},
   "outputs": [
    {
     "name": "stdout",
     "output_type": "stream",
     "text": [
      "*Confusion Matrix for KNN: \n",
      "[[1193    0    0    0    0    1    1    0    0    0]\n",
      " [   0 1350    1    0    1    0    0    0    0    0]\n",
      " [  10    6 1120    2    1    1    0   16    0    1]\n",
      " [   1    3    4 1231    0    5    0    5    3    6]\n",
      " [   0   11    0    0 1107    0    4    0    1   17]\n",
      " [   3    2    0   11    0 1043   10    0    2    5]\n",
      " [   2    1    1    0    2    4 1157    0    0    0]\n",
      " [   0   12    3    0    3    0    0 1241    0    9]\n",
      " [   3   21    0    8    7   18    1    0 1107    9]\n",
      " [   5    1    2    5    6    4    0   18    1 1171]]\n",
      "*Classification Report for KNN: \n",
      "              precision    recall  f1-score   support\n",
      "\n",
      "           0       0.98      1.00      0.99      1195\n",
      "           1       0.96      1.00      0.98      1352\n",
      "           2       0.99      0.97      0.98      1157\n",
      "           3       0.98      0.98      0.98      1258\n",
      "           4       0.98      0.97      0.98      1140\n",
      "           5       0.97      0.97      0.97      1076\n",
      "           6       0.99      0.99      0.99      1167\n",
      "           7       0.97      0.98      0.97      1268\n",
      "           8       0.99      0.94      0.97      1174\n",
      "           9       0.96      0.97      0.96      1213\n",
      "\n",
      "    accuracy                           0.98     12000\n",
      "   macro avg       0.98      0.98      0.98     12000\n",
      "weighted avg       0.98      0.98      0.98     12000\n",
      "\n"
     ]
    }
   ],
   "source": [
    "from sklearn.neighbors import KNeighborsClassifier\n",
    "KNN = KNeighborsClassifier()\n",
    "KNN.fit(xtrain,train_lebel)\n",
    "predictions = KNN.predict(xtest)\n",
    "print(\"*Confusion Matrix for KNN: \")\n",
    "print(confusion_matrix(actual_lebel, predictions))\n",
    "print(\"*Classification Report for KNN: \")\n",
    "print(classification_report(actual_lebel, predictions))"
   ]
  },
  {
   "cell_type": "code",
   "execution_count": 14,
   "metadata": {},
   "outputs": [
    {
     "name": "stdout",
     "output_type": "stream",
     "text": [
      "0.5229205559012653\n",
      "97.66666666666667\n",
      "0.504653130287648\n",
      "0.45054945054945056\n"
     ]
    }
   ],
   "source": [
    "confusion = confusion_matrix(actual_lebel, predictions)\n",
    "TP = confusion[0, 0]\n",
    "TN = confusion[8, 8]\n",
    "FP = confusion[1, 1]\n",
    "FN = confusion[9, 9]\n",
    "classification_error = (FP + FN) / float(TP + TN + FP + FN)\n",
    "\n",
    "print(classification_error)\n",
    "val4 = accuracy_score(actual_lebel, predictions)*100\n",
    "print(val4)\n",
    "from sklearn import metrics\n",
    "KNN_sensitivity = (TP / float(FN + TP))\n",
    "\n",
    "print(KNN_sensitivity)\n",
    "KNN_specificity = (TN / (TN + FP))\n",
    "\n",
    "print(KNN_specificity)"
   ]
  },
  {
   "cell_type": "markdown",
   "metadata": {},
   "source": [
    "# Model Comparison"
   ]
  },
  {
   "cell_type": "markdown",
   "metadata": {},
   "source": [
    "# Accuracy"
   ]
  },
  {
   "cell_type": "code",
   "execution_count": 15,
   "metadata": {},
   "outputs": [
    {
     "data": {
      "image/png": "[encoded data removed]",
      "text/plain": [
       "<Figure size 864x576 with 1 Axes>"
      ]
     },
     "metadata": {
      "needs_background": "light"
     },
     "output_type": "display_data"
    }
   ],
   "source": [
    "import numpy as np\n",
    "import pandas as pd\n",
    "import matplotlib.pyplot as plt\n",
    "\n",
    "# Bring some raw data.\n",
    "frequencies = [val1,val2,val3,val4]\n",
    "\n",
    "# In my original code I create a series and run on that,\n",
    "# so for consistency I create a series from the list.\n",
    "freq_series = pd.Series(frequencies)\n",
    "\n",
    "x_labels = ['RF','DT','MLP-ANN','KNN']\n",
    "\n",
    "# Plot the figure.\n",
    "plt.figure(figsize=(12, 8))\n",
    "ax = freq_series.plot(kind='bar')\n",
    "ax.set_title('Evaluation of ML & DL')\n",
    "ax.set_xlabel('Classifier!')\n",
    "ax.set_ylabel('Accuracy Range')\n",
    "ax.set_xticklabels(x_labels)\n",
    "\n",
    "\n",
    "def add_value_labels(ax, spacing=5):\n",
    "    \"\"\"Add labels to the end of each bar in a bar chart.\n",
    "\n",
    "    Arguments:\n",
    "        ax (matplotlib.axes.Axes): The matplotlib object containing the axes\n",
    "            of the plot to annotate.\n",
    "        spacing (int): The distance between the labels and the bars.\n",
    "    \"\"\"\n",
    "\n",
    "    # For each bar: Place a label\n",
    "    for rect in ax.patches:\n",
    "        # Get X and Y placement of label from rect.\n",
    "        y_value = rect.get_height()\n",
    "        x_value = rect.get_x() + rect.get_width() / 2\n",
    "\n",
    "        # Number of points between bar and label. Change to your liking.\n",
    "        space = spacing\n",
    "        # Vertical alignment for positive values\n",
    "        va = 'bottom'\n",
    "\n",
    "        # If value of bar is negative: Place label below bar\n",
    "        if y_value < 0:\n",
    "            # Invert space to place label below\n",
    "            space *= -1\n",
    "            # Vertically align label at top\n",
    "            va = 'top'\n",
    "\n",
    "        # Use Y value as label and format number with one decimal place\n",
    "        label = \"{:.1f}\".format(y_value)\n",
    "\n",
    "        # Create annotation\n",
    "        ax.annotate(\n",
    "            label,                      # Use `label` as label\n",
    "            (x_value, y_value),         # Place label at end of the bar\n",
    "            xytext=(0, space),          # Vertically shift label by `space`\n",
    "            textcoords=\"offset points\", # Interpret `xytext` as offset in points\n",
    "            ha='center',                # Horizontally center label\n",
    "            va=va)                      # Vertically align label differently for\n",
    "                                        # positive and negative values.\n",
    "\n",
    "\n",
    "# Call the function above. All the magic happens there.\n",
    "add_value_labels(ax)\n",
    "plt.show()\n",
    "#plt.savefig(\"image.png\")"
   ]
  },
  {
   "cell_type": "markdown",
   "metadata": {},
   "source": [
    "# Accuracy - Sensitivity - Specificity"
   ]
  },
  {
   "cell_type": "code",
   "execution_count": 16,
   "metadata": {},
   "outputs": [
    {
     "data": {
      "image/png": "[encoded data removed]",
      "text/plain": [
       "<Figure size 432x288 with 1 Axes>"
      ]
     },
     "metadata": {
      "needs_background": "light"
     },
     "output_type": "display_data"
    }
   ],
   "source": [
    "import numpy as np\n",
    "import matplotlib.pyplot as plt\n",
    "\n",
    "N = 4\n",
    "ind = np.arange(N)  # the x locations for the groups\n",
    "width = 0.2      # the width of the bars\n",
    "\n",
    "fig = plt.figure()\n",
    "ax = fig.add_subplot(111)\n",
    "\n",
    "yvals = [val1,val2,val3,val4]\n",
    "\n",
    "rects1 = ax.bar(ind, yvals, width, color='r')\n",
    "zvals = [RF_sensitivity*100,DT_sensitivity*100,MLP_sensitivity*100,KNN_sensitivity*100]\n",
    "rects2 = ax.bar(ind+width, zvals, width, color='g')\n",
    "kvals = [RF_specificity*100,DT_specificity*100,MLP_specificity*100,KNN_specificity*100]\n",
    "rects3 = ax.bar(ind+width*2, kvals, width, color='b')\n",
    "\n",
    "ax.set_ylabel('Scores')\n",
    "ax.set_xticks(ind+width)\n",
    "ax.set_xticklabels( ('RF','DT','MLP-ANN','KNN') )\n",
    "ax.legend( (rects1[0], rects2[0], rects3[0]), ('Accuracy', 'Sensitvity', 'Specificity') )\n",
    "\n",
    "def autolabel(rects):\n",
    "    for rect in rects:\n",
    "        h = rect.get_height()\n",
    "        ax.text(rect.get_x()+rect.get_width()/2., 1.05*h, '%d'%int(h),\n",
    "                ha='center', va='bottom')\n",
    "\n",
    "autolabel(rects1)\n",
    "autolabel(rects2)\n",
    "autolabel(rects3)\n",
    "\n",
    "plt.show()"
   ]
  },
  {
   "cell_type": "markdown",
   "metadata": {},
   "source": [
    "# Application"
   ]
  },
  {
   "cell_type": "code",
   "execution_count": 17,
   "metadata": {},
   "outputs": [],
   "source": [
    "import time\n",
    "import os\n",
    "from flask import Flask, render_template, request\n",
    "from werkzeug.wrappers import Request, Response\n",
    "# import our OCR function\n",
    "from ocr_core import ocr_core\n",
    "from model import hdr_predition\n",
    "from model import hdr_accuracy\n",
    "from model import hdr_img"
   ]
  },
  {
   "cell_type": "code",
   "execution_count": 18,
   "metadata": {},
   "outputs": [],
   "source": [
    "# define a folder to store and later serve the images\n",
    "UPLOAD_FOLDER = '/static/uploads/'\n",
    "\n",
    "# allow files of a specific type\n",
    "ALLOWED_EXTENSIONS = set(['png', 'jpg', 'jpeg'])"
   ]
  },
  {
   "cell_type": "code",
   "execution_count": 19,
   "metadata": {},
   "outputs": [],
   "source": [
    "app = Flask(__name__)\n",
    "\n",
    "# function to check the file extension\n",
    "def allowed_file(filename):\n",
    "    return '.' in filename and \\\n",
    "           filename.rsplit('.', 1)[1].lower() in ALLOWED_EXTENSIONS\n"
   ]
  },
  {
   "cell_type": "code",
   "execution_count": 20,
   "metadata": {},
   "outputs": [],
   "source": [
    "# route and function to handle the home page\n",
    "@app.route('/')\n",
    "def home_page():\n",
    "    return render_template('index.html')\n",
    "\n",
    "# route and function to handle the upload page\n",
    "@app.route('/upload', methods=['GET', 'POST'])\n",
    "def upload_page():\n",
    "    start = time.time()\n",
    "    if request.method == 'POST':\n",
    "        # check if there is a file in the request\n",
    "        if 'file' not in request.files:\n",
    "            return render_template('upload.html', msg='No file selected')\n",
    "        file = request.files['file']\n",
    "        # if no file is selected\n",
    "        if file.filename == '':\n",
    "            return render_template('upload.html', msg='No file selected')\n",
    "\n",
    "        if file and allowed_file(file.filename):\n",
    "\n",
    "            # call the OCR function on it\n",
    "            extracted_text = ocr_core(file)\n",
    "            end = time.time()\n",
    "            predition_time =round(end-start,3)\n",
    "            # extract the text and display it\n",
    "            return render_template('upload.html',\n",
    "                                   msg='Successfully processed',\n",
    "                                   predition_time=predition_time,\n",
    "                                   extracted_text=extracted_text,\n",
    "                                   img_src=UPLOAD_FOLDER + file.filename)\n",
    "    elif request.method == 'GET':\n",
    "        return render_template('upload.html')"
   ]
  },
  {
   "cell_type": "code",
   "execution_count": null,
   "metadata": {},
   "outputs": [
    {
     "name": "stderr",
     "output_type": "stream",
     "text": [
      " * Running on http://localhost:9000/ (Press CTRL+C to quit)\n",
      "127.0.0.1 - - [06/Jun/2021 15:44:06] \"\u001b[37mGET / HTTP/1.1\u001b[0m\" 200 -\n",
      "127.0.0.1 - - [06/Jun/2021 15:44:06] \"\u001b[37mGET /static/images/21.jpg HTTP/1.1\u001b[0m\" 200 -\n",
      "127.0.0.1 - - [06/Jun/2021 15:44:06] \"\u001b[33mGET /favicon.ico HTTP/1.1\u001b[0m\" 404 -\n",
      "127.0.0.1 - - [06/Jun/2021 15:44:10] \"\u001b[37mGET /upload HTTP/1.1\u001b[0m\" 200 -\n",
      "127.0.0.1 - - [06/Jun/2021 15:44:20] \"\u001b[37mPOST /upload HTTP/1.1\u001b[0m\" 200 -\n",
      "127.0.0.1 - - [06/Jun/2021 15:44:20] \"\u001b[37mGET /static/uploads/m7.jpeg HTTP/1.1\u001b[0m\" 200 -\n",
      "127.0.0.1 - - [06/Jun/2021 15:44:33] \"\u001b[37mPOST /upload HTTP/1.1\u001b[0m\" 200 -\n",
      "127.0.0.1 - - [06/Jun/2021 15:44:33] \"\u001b[37mGET /static/uploads/t25.jpeg HTTP/1.1\u001b[0m\" 200 -\n",
      "127.0.0.1 - - [06/Jun/2021 15:44:47] \"\u001b[37mPOST /upload HTTP/1.1\u001b[0m\" 200 -\n",
      "127.0.0.1 - - [06/Jun/2021 15:44:47] \"\u001b[37mGET /static/uploads/test2.png HTTP/1.1\u001b[0m\" 200 -\n",
      "127.0.0.1 - - [06/Jun/2021 15:45:04] \"\u001b[37mPOST /upload HTTP/1.1\u001b[0m\" 200 -\n",
      "127.0.0.1 - - [06/Jun/2021 15:45:04] \"\u001b[37mGET /static/uploads/m2.jpeg HTTP/1.1\u001b[0m\" 200 -\n",
      "127.0.0.1 - - [06/Jun/2021 15:47:28] \"\u001b[37mPOST /upload HTTP/1.1\u001b[0m\" 200 -\n",
      "127.0.0.1 - - [06/Jun/2021 15:47:28] \"\u001b[37mGET /static/uploads/a2.jpeg HTTP/1.1\u001b[0m\" 200 -\n"
     ]
    }
   ],
   "source": [
    "if __name__ == '__main__':\n",
    "    app.debug = True\n",
    "    from werkzeug.serving import run_simple\n",
    "    run_simple('localhost', 9000, app)\n"
   ]
  },
  {
   "cell_type": "code",
   "execution_count": null,
   "metadata": {},
   "outputs": [],
   "source": []
  }
 ],
 "metadata": {
  "kernelspec": {
   "display_name": "Python 3",
   "language": "python",
   "name": "python3"
  },
  "language_info": {
   "codemirror_mode": {
    "name": "ipython",
    "version": 3
   },
   "file_extension": ".py",
   "mimetype": "text/x-python",
   "name": "python",
   "nbconvert_exporter": "python",
   "pygments_lexer": "ipython3",
   "version": "3.8.5"
  }
 },
 "nbformat": 4,
 "nbformat_minor": 4
}
