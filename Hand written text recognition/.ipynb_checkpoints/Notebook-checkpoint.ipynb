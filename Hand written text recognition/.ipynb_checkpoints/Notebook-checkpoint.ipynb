{
 "cells": [
  {
   "cell_type": "markdown",
   "metadata": {},
   "source": [
    "# HandWritten Word Segmentation"
   ]
  },
  {
   "cell_type": "markdown",
   "metadata": {},
   "source": [
    "# Importing Packages"
   ]
  },
  {
   "cell_type": "code",
   "execution_count": 2,
   "metadata": {},
   "outputs": [],
   "source": [
    "import seaborn as sns\n",
    "import numpy as np\n",
    "import matplotlib.pyplot as pt\n",
    "import pandas as pd\n",
    "from sklearn.model_selection import train_test_split"
   ]
  },
  {
   "cell_type": "markdown",
   "metadata": {},
   "source": [
    "# Data Exploration"
   ]
  },
  {
   "cell_type": "code",
   "execution_count": 3,
   "metadata": {},
   "outputs": [],
   "source": [
    "data =pd.read_csv(\"hand.csv\").values"
   ]
  },
  {
   "cell_type": "markdown",
   "metadata": {},
   "source": [
    "# Data Splitting Training & Testing"
   ]
  },
  {
   "cell_type": "code",
   "execution_count": 4,
   "metadata": {},
   "outputs": [],
   "source": [
    "#trianing dataset\n",
    "xtrain =data[0:40000,1:]\n",
    "train_lebel=data[0:40000,0]"
   ]
  },
  {
   "cell_type": "code",
   "execution_count": 5,
   "metadata": {},
   "outputs": [],
   "source": [
    "#test dataset\n",
    "xtest=data[30000:,1:]\n",
    "actual_lebel=data[30000:,0]"
   ]
  },
  {
   "cell_type": "markdown",
   "metadata": {},
   "source": [
    "# ML & DL "
   ]
  },
  {
   "cell_type": "code",
   "execution_count": 6,
   "metadata": {},
   "outputs": [],
   "source": [
    "from sklearn.model_selection import cross_val_score\n",
    "from sklearn.metrics import classification_report\n",
    "from sklearn.metrics import confusion_matrix\n",
    "from sklearn.metrics import accuracy_score"
   ]
  },
  {
   "cell_type": "markdown",
   "metadata": {},
   "source": [
    "# Random Forest Classifier"
   ]
  },
  {
   "cell_type": "code",
   "execution_count": 7,
   "metadata": {},
   "outputs": [
    {
     "name": "stdout",
     "output_type": "stream",
     "text": [
      "*Confusion Matrix for RF: \n",
      "[[1193    0    0    0    0    0    1    0    1    0]\n",
      " [   0 1350    0    0    0    1    0    0    1    0]\n",
      " [   3    0 1147    3    0    0    1    1    2    0]\n",
      " [   0    0    3 1244    1    2    1    3    3    1]\n",
      " [   0    1    0    0 1134    0    2    0    1    2]\n",
      " [   1    0    0    3    0 1067    1    0    3    1]\n",
      " [   1    0    0    0    2    0 1164    0    0    0]\n",
      " [   0    0    3    0    1    0    0 1261    0    3]\n",
      " [   0    1    1    0    2    1    2    1 1163    3]\n",
      " [   0    0    2    2    3    0    0    3    1 1202]]\n",
      "*Classification Report for RF: \n",
      "              precision    recall  f1-score   support\n",
      "\n",
      "           0       1.00      1.00      1.00      1195\n",
      "           1       1.00      1.00      1.00      1352\n",
      "           2       0.99      0.99      0.99      1157\n",
      "           3       0.99      0.99      0.99      1258\n",
      "           4       0.99      0.99      0.99      1140\n",
      "           5       1.00      0.99      0.99      1076\n",
      "           6       0.99      1.00      1.00      1167\n",
      "           7       0.99      0.99      0.99      1268\n",
      "           8       0.99      0.99      0.99      1174\n",
      "           9       0.99      0.99      0.99      1213\n",
      "\n",
      "    accuracy                           0.99     12000\n",
      "   macro avg       0.99      0.99      0.99     12000\n",
      "weighted avg       0.99      0.99      0.99     12000\n",
      "\n"
     ]
    }
   ],
   "source": [
    "from sklearn.ensemble import RandomForestClassifier\n",
    "RF = RandomForestClassifier()\n",
    "RF.fit(xtrain,train_lebel)\n",
    "predictions = RF.predict(xtest)\n",
    "print(\"*Confusion Matrix for RF: \")\n",
    "print(confusion_matrix(actual_lebel, predictions))\n",
    "print(\"*Classification Report for RF: \")\n",
    "print(classification_report(actual_lebel, predictions))"
   ]
  },
  {
   "cell_type": "code",
   "execution_count": 12,
   "metadata": {},
   "outputs": [
    {
     "name": "stdout",
     "output_type": "stream",
     "text": [
      "0.5199674001629991\n",
      "99.375\n",
      "0.4981210855949896\n",
      "0.4627934739355352\n"
     ]
    }
   ],
   "source": [
    "confusion = confusion_matrix(actual_lebel, predictions)\n",
    "TP = confusion[0, 0]\n",
    "TN = confusion[8, 8]\n",
    "FP = confusion[1, 1]\n",
    "FN = confusion[9, 9]\n",
    "classification_error = (FP + FN) / float(TP + TN + FP + FN)\n",
    "\n",
    "print(classification_error)\n",
    "val1 = accuracy_score(actual_lebel, predictions)*100\n",
    "print(val1)\n",
    "from sklearn import metrics\n",
    "RF_sensitivity = (TP / float(FN + TP))\n",
    "\n",
    "print(RF_sensitivity)\n",
    "RF_specificity = (TN / (TN + FP))\n",
    "\n",
    "print(RF_specificity)"
   ]
  },
  {
   "cell_type": "markdown",
   "metadata": {},
   "source": [
    "# Decision Tree Classifier"
   ]
  },
  {
   "cell_type": "code",
   "execution_count": 13,
   "metadata": {},
   "outputs": [
    {
     "name": "stdout",
     "output_type": "stream",
     "text": [
      "*Confusion Matrix for DT: \n",
      "[[1173    1    3    0    2    4    4    2    5    1]\n",
      " [   1 1342    1    1    2    0    3    0    2    0]\n",
      " [   2    2 1118    4    4    3    7    5    8    4]\n",
      " [   2    2    6 1221    3    7    0    3   10    4]\n",
      " [   2    4    5    2 1107    4    3    4    0    9]\n",
      " [   3    3    4   10    4 1038    4    1    8    1]\n",
      " [   2    0    2    0    3    6 1147    2    5    0]\n",
      " [   1    0    6    0    3    0    0 1250    3    5]\n",
      " [   3    4    4    4    8    5   11    1 1126    8]\n",
      " [   0    0    3    8    9    4    1    7    4 1177]]\n",
      "*Classification Report for DT: \n",
      "              precision    recall  f1-score   support\n",
      "\n",
      "           0       0.99      0.98      0.98      1195\n",
      "           1       0.99      0.99      0.99      1352\n",
      "           2       0.97      0.97      0.97      1157\n",
      "           3       0.98      0.97      0.97      1258\n",
      "           4       0.97      0.97      0.97      1140\n",
      "           5       0.97      0.96      0.97      1076\n",
      "           6       0.97      0.98      0.98      1167\n",
      "           7       0.98      0.99      0.98      1268\n",
      "           8       0.96      0.96      0.96      1174\n",
      "           9       0.97      0.97      0.97      1213\n",
      "\n",
      "    accuracy                           0.97     12000\n",
      "   macro avg       0.97      0.97      0.97     12000\n",
      "weighted avg       0.97      0.97      0.97     12000\n",
      "\n"
     ]
    }
   ],
   "source": [
    "from sklearn import tree\n",
    "DT = tree.DecisionTreeClassifier()\n",
    "DT.fit(xtrain,train_lebel)\n",
    "predictions = DT.predict(xtest)\n",
    "print(\"*Confusion Matrix for DT: \")\n",
    "print(confusion_matrix(actual_lebel, predictions))\n",
    "print(\"*Classification Report for DT: \")\n",
    "print(classification_report(actual_lebel, predictions))"
   ]
  },
  {
   "cell_type": "code",
   "execution_count": 14,
   "metadata": {},
   "outputs": [
    {
     "name": "stdout",
     "output_type": "stream",
     "text": [
      "0.5228310502283106\n",
      "97.49166666666666\n",
      "0.4991489361702128\n",
      "0.45623987034035657\n"
     ]
    }
   ],
   "source": [
    "confusion = confusion_matrix(actual_lebel, predictions)\n",
    "TP = confusion[0, 0]\n",
    "TN = confusion[8, 8]\n",
    "FP = confusion[1, 1]\n",
    "FN = confusion[9, 9]\n",
    "classification_error = (FP + FN) / float(TP + TN + FP + FN)\n",
    "\n",
    "print(classification_error)\n",
    "val2 = accuracy_score(actual_lebel, predictions)*100\n",
    "print(val2)\n",
    "from sklearn import metrics\n",
    "DT_sensitivity = (TP / float(FN + TP))\n",
    "\n",
    "print(DT_sensitivity)\n",
    "DT_specificity = (TN / (TN + FP))\n",
    "\n",
    "print(DT_specificity)"
   ]
  },
  {
   "cell_type": "markdown",
   "metadata": {},
   "source": [
    "# MLP Classifier - ANN"
   ]
  },
  {
   "cell_type": "code",
   "execution_count": 15,
   "metadata": {},
   "outputs": [
    {
     "name": "stdout",
     "output_type": "stream",
     "text": [
      "*Confusion Matrix for MLP: \n",
      "[[1190    0    2    0    0    0    1    0    2    0]\n",
      " [   0 1345    0    1    1    0    2    1    1    1]\n",
      " [   2    0 1147    2    0    0    0    3    1    2]\n",
      " [   1    1    4 1232    0    8    0    5    2    5]\n",
      " [   2    5    1    0 1126    0    0    1    1    4]\n",
      " [   2    1    0    2    1 1055    1    0    8    6]\n",
      " [   2    0    0    0    0    1 1163    0    1    0]\n",
      " [   0    1    1    0    1    0    0 1260    0    5]\n",
      " [   5    3    1    3    2    1    1    1 1150    7]\n",
      " [   2    0    0    1    5    2    0    5    1 1197]]\n",
      "*Classification Report for MLP: \n",
      "              precision    recall  f1-score   support\n",
      "\n",
      "           0       0.99      1.00      0.99      1195\n",
      "           1       0.99      0.99      0.99      1352\n",
      "           2       0.99      0.99      0.99      1157\n",
      "           3       0.99      0.98      0.99      1258\n",
      "           4       0.99      0.99      0.99      1140\n",
      "           5       0.99      0.98      0.98      1076\n",
      "           6       1.00      1.00      1.00      1167\n",
      "           7       0.99      0.99      0.99      1268\n",
      "           8       0.99      0.98      0.98      1174\n",
      "           9       0.98      0.99      0.98      1213\n",
      "\n",
      "    accuracy                           0.99     12000\n",
      "   macro avg       0.99      0.99      0.99     12000\n",
      "weighted avg       0.99      0.99      0.99     12000\n",
      "\n"
     ]
    }
   ],
   "source": [
    "from sklearn.neural_network import MLPClassifier\n",
    "MLP = MLPClassifier()\n",
    "MLP.fit(xtrain,train_lebel)\n",
    "predictions = MLP.predict(xtest)\n",
    "print(\"*Confusion Matrix for MLP: \")\n",
    "print(confusion_matrix(actual_lebel, predictions))\n",
    "print(\"*Classification Report for MLP: \")\n",
    "print(classification_report(actual_lebel, predictions))"
   ]
  },
  {
   "cell_type": "code",
   "execution_count": 18,
   "metadata": {},
   "outputs": [
    {
     "name": "stdout",
     "output_type": "stream",
     "text": [
      "0.5206882425235559\n",
      "98.875\n",
      "0.49853372434017595\n",
      "0.46092184368737477\n"
     ]
    }
   ],
   "source": [
    "confusion = confusion_matrix(actual_lebel, predictions)\n",
    "TP = confusion[0, 0]\n",
    "TN = confusion[8, 8]\n",
    "FP = confusion[1, 1]\n",
    "FN = confusion[9, 9]\n",
    "classification_error = (FP + FN) / float(TP + TN + FP + FN)\n",
    "\n",
    "print(classification_error)\n",
    "val3 = accuracy_score(actual_lebel, predictions)*100\n",
    "print(val3)\n",
    "from sklearn import metrics\n",
    "MLP_sensitivity = (TP / float(FN + TP))\n",
    "\n",
    "print(MLP_sensitivity)\n",
    "MLP_specificity = (TN / (TN + FP))\n",
    "\n",
    "print(MLP_specificity)"
   ]
  },
  {
   "cell_type": "markdown",
   "metadata": {},
   "source": [
    "# KNeighbors Classifier"
   ]
  },
  {
   "cell_type": "code",
   "execution_count": 19,
   "metadata": {},
   "outputs": [
    {
     "name": "stdout",
     "output_type": "stream",
     "text": [
      "*Confusion Matrix for KNN: \n",
      "[[1193    0    0    0    0    1    1    0    0    0]\n",
      " [   0 1350    1    0    1    0    0    0    0    0]\n",
      " [  10    6 1120    2    1    1    0   16    0    1]\n",
      " [   1    3    4 1231    0    5    0    5    3    6]\n",
      " [   0   11    0    0 1107    0    4    0    1   17]\n",
      " [   3    2    0   11    0 1043   10    0    2    5]\n",
      " [   2    1    1    0    2    4 1157    0    0    0]\n",
      " [   0   12    3    0    3    0    0 1241    0    9]\n",
      " [   3   21    0    8    7   18    1    0 1107    9]\n",
      " [   5    1    2    5    6    4    0   18    1 1171]]\n",
      "*Classification Report for KNN: \n",
      "              precision    recall  f1-score   support\n",
      "\n",
      "           0       0.98      1.00      0.99      1195\n",
      "           1       0.96      1.00      0.98      1352\n",
      "           2       0.99      0.97      0.98      1157\n",
      "           3       0.98      0.98      0.98      1258\n",
      "           4       0.98      0.97      0.98      1140\n",
      "           5       0.97      0.97      0.97      1076\n",
      "           6       0.99      0.99      0.99      1167\n",
      "           7       0.97      0.98      0.97      1268\n",
      "           8       0.99      0.94      0.97      1174\n",
      "           9       0.96      0.97      0.96      1213\n",
      "\n",
      "    accuracy                           0.98     12000\n",
      "   macro avg       0.98      0.98      0.98     12000\n",
      "weighted avg       0.98      0.98      0.98     12000\n",
      "\n"
     ]
    }
   ],
   "source": [
    "from sklearn.neighbors import KNeighborsClassifier\n",
    "KNN = KNeighborsClassifier()\n",
    "KNN.fit(xtrain,train_lebel)\n",
    "predictions = KNN.predict(xtest)\n",
    "print(\"*Confusion Matrix for KNN: \")\n",
    "print(confusion_matrix(actual_lebel, predictions))\n",
    "print(\"*Classification Report for KNN: \")\n",
    "print(classification_report(actual_lebel, predictions))"
   ]
  },
  {
   "cell_type": "code",
   "execution_count": 20,
   "metadata": {},
   "outputs": [
    {
     "name": "stdout",
     "output_type": "stream",
     "text": [
      "0.5229205559012653\n",
      "97.66666666666667\n",
      "0.504653130287648\n",
      "0.45054945054945056\n"
     ]
    }
   ],
   "source": [
    "confusion = confusion_matrix(actual_lebel, predictions)\n",
    "TP = confusion[0, 0]\n",
    "TN = confusion[8, 8]\n",
    "FP = confusion[1, 1]\n",
    "FN = confusion[9, 9]\n",
    "classification_error = (FP + FN) / float(TP + TN + FP + FN)\n",
    "\n",
    "print(classification_error)\n",
    "val4 = accuracy_score(actual_lebel, predictions)*100\n",
    "print(val4)\n",
    "from sklearn import metrics\n",
    "KNN_sensitivity = (TP / float(FN + TP))\n",
    "\n",
    "print(KNN_sensitivity)\n",
    "KNN_specificity = (TN / (TN + FP))\n",
    "\n",
    "print(KNN_specificity)"
   ]
  },
  {
   "cell_type": "markdown",
   "metadata": {},
   "source": [
    "# Model Comparison"
   ]
  },
  {
   "cell_type": "markdown",
   "metadata": {},
   "source": [
    "# Accuracy"
   ]
  },
  {
   "cell_type": "code",
   "execution_count": 21,
   "metadata": {},
   "outputs": [
    {
     "data": {
      "image/png": "[encoded data removed]",
      "text/plain": [
       "<Figure size 864x576 with 1 Axes>"
      ]
     },
     "metadata": {
      "needs_background": "light"
     },
     "output_type": "display_data"
    }
   ],
   "source": [
    "import numpy as np\n",
    "import pandas as pd\n",
    "import matplotlib.pyplot as plt\n",
    "\n",
    "# Bring some raw data.\n",
    "frequencies = [val1,val2,val3,val4]\n",
    "\n",
    "# In my original code I create a series and run on that,\n",
    "# so for consistency I create a series from the list.\n",
    "freq_series = pd.Series(frequencies)\n",
    "\n",
    "x_labels = ['RF','DT','MLP-ANN','KNN']\n",
    "\n",
    "# Plot the figure.\n",
    "plt.figure(figsize=(12, 8))\n",
    "ax = freq_series.plot(kind='bar')\n",
    "ax.set_title('Evaluation of ML & DL')\n",
    "ax.set_xlabel('Classifier!')\n",
    "ax.set_ylabel('Accuracy Range')\n",
    "ax.set_xticklabels(x_labels)\n",
    "\n",
    "\n",
    "def add_value_labels(ax, spacing=5):\n",
    "    \"\"\"Add labels to the end of each bar in a bar chart.\n",
    "\n",
    "    Arguments:\n",
    "        ax (matplotlib.axes.Axes): The matplotlib object containing the axes\n",
    "            of the plot to annotate.\n",
    "        spacing (int): The distance between the labels and the bars.\n",
    "    \"\"\"\n",
    "\n",
    "    # For each bar: Place a label\n",
    "    for rect in ax.patches:\n",
    "        # Get X and Y placement of label from rect.\n",
    "        y_value = rect.get_height()\n",
    "        x_value = rect.get_x() + rect.get_width() / 2\n",
    "\n",
    "        # Number of points between bar and label. Change to your liking.\n",
    "        space = spacing\n",
    "        # Vertical alignment for positive values\n",
    "        va = 'bottom'\n",
    "\n",
    "        # If value of bar is negative: Place label below bar\n",
    "        if y_value < 0:\n",
    "            # Invert space to place label below\n",
    "            space *= -1\n",
    "            # Vertically align label at top\n",
    "            va = 'top'\n",
    "\n",
    "        # Use Y value as label and format number with one decimal place\n",
    "        label = \"{:.1f}\".format(y_value)\n",
    "\n",
    "        # Create annotation\n",
    "        ax.annotate(\n",
    "            label,                      # Use `label` as label\n",
    "            (x_value, y_value),         # Place label at end of the bar\n",
    "            xytext=(0, space),          # Vertically shift label by `space`\n",
    "            textcoords=\"offset points\", # Interpret `xytext` as offset in points\n",
    "            ha='center',                # Horizontally center label\n",
    "            va=va)                      # Vertically align label differently for\n",
    "                                        # positive and negative values.\n",
    "\n",
    "\n",
    "# Call the function above. All the magic happens there.\n",
    "add_value_labels(ax)\n",
    "plt.show()\n",
    "#plt.savefig(\"image.png\")"
   ]
  },
  {
   "cell_type": "markdown",
   "metadata": {},
   "source": [
    "# Accuracy - Sensitivity - Specificity"
   ]
  },
  {
   "cell_type": "code",
   "execution_count": 24,
   "metadata": {},
   "outputs": [
    {
     "data": {
      "image/png": "[encoded data removed]",
      "text/plain": [
       "<Figure size 432x288 with 1 Axes>"
      ]
     },
     "metadata": {
      "needs_background": "light"
     },
     "output_type": "display_data"
    }
   ],
   "source": [
    "import numpy as np\n",
    "import matplotlib.pyplot as plt\n",
    "\n",
    "N = 4\n",
    "ind = np.arange(N)  # the x locations for the groups\n",
    "width = 0.2      # the width of the bars\n",
    "\n",
    "fig = plt.figure()\n",
    "ax = fig.add_subplot(111)\n",
    "\n",
    "yvals = [val1,val2,val3,val4]\n",
    "\n",
    "rects1 = ax.bar(ind, yvals, width, color='r')\n",
    "zvals = [RF_sensitivity*100,DT_sensitivity*100,MLP_sensitivity*100,KNN_sensitivity*100]\n",
    "rects2 = ax.bar(ind+width, zvals, width, color='g')\n",
    "kvals = [RF_specificity*100,DT_specificity*100,MLP_specificity*100,KNN_specificity*100]\n",
    "rects3 = ax.bar(ind+width*2, kvals, width, color='b')\n",
    "\n",
    "ax.set_ylabel('Scores')\n",
    "ax.set_xticks(ind+width)\n",
    "ax.set_xticklabels( ('RF','DT','MLP-ANN','KNN') )\n",
    "ax.legend( (rects1[0], rects2[0], rects3[0]), ('Accuracy', 'Sensitvity', 'Specificity') )\n",
    "\n",
    "def autolabel(rects):\n",
    "    for rect in rects:\n",
    "        h = rect.get_height()\n",
    "        ax.text(rect.get_x()+rect.get_width()/2., 1.05*h, '%d'%int(h),\n",
    "                ha='center', va='bottom')\n",
    "\n",
    "autolabel(rects1)\n",
    "autolabel(rects2)\n",
    "autolabel(rects3)\n",
    "\n",
    "plt.show()"
   ]
  },
  {
   "cell_type": "code",
   "execution_count": null,
   "metadata": {},
   "outputs": [],
   "source": []
  }
 ],
 "metadata": {
  "kernelspec": {
   "display_name": "Python 3",
   "language": "python",
   "name": "python3"
  },
  "language_info": {
   "codemirror_mode": {
    "name": "ipython",
    "version": 3
   },
   "file_extension": ".py",
   "mimetype": "text/x-python",
   "name": "python",
   "nbconvert_exporter": "python",
   "pygments_lexer": "ipython3",
   "version": "3.8.5"
  }
 },
 "nbformat": 4,
 "nbformat_minor": 4
}
